{
 "cells": [
  {
   "cell_type": "code",
   "execution_count": 8,
   "metadata": {},
   "outputs": [],
   "source": [
    "import numpy\n",
    "import random\n",
    "import collections"
   ]
  },
  {
   "cell_type": "code",
   "execution_count": 9,
   "metadata": {},
   "outputs": [],
   "source": [
    "# Convolution function for digital signal processing exercise.\n",
    "\n",
    "def convolve(array1, array2):\n",
    "    output = [0] * (len(array1) + len(array2) - 1)\n",
    "    \n",
    "    for i in range(len(array1)):\n",
    "        for j in range (len(array2)):\n",
    "            output[i + j] += array2[j] * array1[i]\n",
    "    \n",
    "    return output"
   ]
  },
  {
   "cell_type": "code",
   "execution_count": 10,
   "metadata": {},
   "outputs": [
    {
     "name": "stdout",
     "output_type": "stream",
     "text": [
      "True\n",
      "True\n",
      "True\n",
      "True\n",
      "True\n",
      "True\n",
      "True\n",
      "True\n",
      "True\n",
      "True\n"
     ]
    }
   ],
   "source": [
    "# Some random testing\n",
    "compare = lambda x, y: collections.Counter(x) == collections.Counter(y)\n",
    "\n",
    "for i in range(10):\n",
    "    array1 = array2 = []\n",
    "    for i in range(random.randint(1, 100)):\n",
    "        array1.append(random.randint(1,100))\n",
    "\n",
    "    for i in range(random.randint(1, 1000)):\n",
    "        array2.append(random.randint(1,100))\n",
    "    \n",
    "    result = numpy.convolve(array1,array2)\n",
    "    convolved = convolve(array1, array2)\n",
    "    \n",
    "    print( compare(result,convolved))"
   ]
  },
  {
   "cell_type": "code",
   "execution_count": null,
   "metadata": {},
   "outputs": [],
   "source": []
  }
 ],
 "metadata": {
  "kernelspec": {
   "display_name": "Python 2",
   "language": "python",
   "name": "python2"
  },
  "language_info": {
   "codemirror_mode": {
    "name": "ipython",
    "version": 2
   },
   "file_extension": ".py",
   "mimetype": "text/x-python",
   "name": "python",
   "nbconvert_exporter": "python",
   "pygments_lexer": "ipython2",
   "version": "2.7.14"
  }
 },
 "nbformat": 4,
 "nbformat_minor": 2
}
